{
 "cells": [
  {
   "cell_type": "code",
   "execution_count": 5,
   "id": "3f463373-5029-41a9-903f-b83eaf400c4e",
   "metadata": {},
   "outputs": [
    {
     "name": "stdout",
     "output_type": "stream",
     "text": [
      "name:salvin cheriyan babu\n",
      "student number:102022\n",
      "email:salvin123@gmail.com\n"
     ]
    }
   ],
   "source": [
    "print(\"name:salvin cheriyan babu\");\n",
    "print(\"student number:102022\");\n",
    "print(\"email:salvin123@gmail.com\");"
   ]
  },
  {
   "cell_type": "code",
   "execution_count": 17,
   "id": "9b77db5b-616f-44e4-bf8e-340dfe34038f",
   "metadata": {},
   "outputs": [
    {
     "name": "stdout",
     "output_type": "stream",
     "text": [
      "name:salvin cheriyan babu\tstudent number:102022\temail:salvin123@gmail.com\n"
     ]
    }
   ],
   "source": [
    "print(\"name:salvin cheriyan babu\\tstudent number:102022\\temail:salvin123@gmail.com\");"
   ]
  },
  {
   "cell_type": "code",
   "execution_count": 50,
   "id": "94cccaa1-7cab-4fe9-8f09-f2738264a071",
   "metadata": {},
   "outputs": [
    {
     "name": "stdout",
     "output_type": "stream",
     "text": [
      "21\n",
      "7\n",
      "98\n",
      "2.0\n"
     ]
    }
   ],
   "source": [
    "a=14;\n",
    "b=7;\n",
    "z=a+b;\n",
    "x=a-b;\n",
    "y=a*b;\n",
    "w=a/b;\n",
    "\n",
    "print(z);\n",
    "print(x);\n",
    "print(y);\n",
    "print(w);"
   ]
  },
  {
   "cell_type": "code",
   "execution_count": 54,
   "id": "f9cd1a43-0223-4f0b-b1b8-66a470115263",
   "metadata": {},
   "outputs": [
    {
     "name": "stdout",
     "output_type": "stream",
     "text": [
      "1\t2\t3\t4\t5\n"
     ]
    }
   ],
   "source": [
    "print(\"1\\t2\\t3\\t4\\t5\");"
   ]
  },
  {
   "cell_type": "code",
   "execution_count": 56,
   "id": "0a7fda3a-ead6-4f6a-924e-333a6547bb83",
   "metadata": {},
   "outputs": [
    {
     "name": "stdout",
     "output_type": "stream",
     "text": [
      "\"SDK\" stands for \"Software Development Kit\", whereas \"IDE\" stands for \"Integrated Development Environment\".\n"
     ]
    }
   ],
   "source": [
    "print(\"\\\"SDK\\\" stands for \\\"Software Development Kit\\\", whereas \\\"IDE\\\" stands for \\\"Integrated Development Environment\\\".\")"
   ]
  },
  {
   "cell_type": "code",
   "execution_count": 68,
   "id": "7e8d17d6-d9a4-4710-aa39-94f38e7d6737",
   "metadata": {},
   "outputs": [
    {
     "name": "stdout",
     "output_type": "stream",
     "text": [
      "python is an \"awesome\" language.\n",
      "python\n",
      "\t2023\n",
      "I'm from Entri\n",
      "5\n",
      "e\n",
      "Entri\n",
      "2023\n",
      "Entr2023\n",
      "Entri*20"
     ]
    }
   ],
   "source": [
    "print(\"python is an \\\"awesome\\\" language.\")\n",
    "print(\"python\\n\\t2023\")\n",
    "print('I\\'m from Entri.\\b')\n",
    "print(\"\\65\") \n",
    "print(\"\\x65\")\n",
    "print(\"Entri\", \"2023\", sep=\"\\n\")\n",
    "print(\"Entri\", \"2023\", sep=\"\\b\")\n",
    "print(\"Entri\", \"2023\", sep=\"*\", end=\"\\b\\b\\b\\b\")"
   ]
  },
  {
   "cell_type": "code",
   "execution_count": 85,
   "id": "bbefe586-c589-49ad-88ec-2695bc001847",
   "metadata": {},
   "outputs": [
    {
     "name": "stdout",
     "output_type": "stream",
     "text": [
      "<class 'int'>\n",
      "<class 'str'>\n",
      "<class 'float'>\n"
     ]
    }
   ],
   "source": [
    "num=23 \n",
    "textnum=\"57\"\n",
    "decimal=98.3\n",
    "print(type(num));\n",
    "print(type(textnum));\n",
    "print(type(decimal));"
   ]
  },
  {
   "cell_type": "code",
   "execution_count": 105,
   "id": "6e141c59-2420-4c66-9a8f-ce9ad88d7029",
   "metadata": {},
   "outputs": [
    {
     "name": "stdout",
     "output_type": "stream",
     "text": [
      "total miniutes in a year: 525600\n"
     ]
    }
   ],
   "source": [
    "days_in_year=365\n",
    "minute_in_hour=60\n",
    "hours_in_day=24\n",
    "min_in_year=days_in_year*minute_in_hour*hours_in_day\n",
    "print(\"total miniutes in a year:\",min_in_year);\n"
   ]
  },
  {
   "cell_type": "code",
   "execution_count": null,
   "id": "72825353-ac66-4488-b8f9-ea7729194623",
   "metadata": {},
   "outputs": [],
   "source": []
  },
  {
   "cell_type": "code",
   "execution_count": 119,
   "id": "f07a8d78-137e-4ab3-aaf5-d94c6e446ff2",
   "metadata": {},
   "outputs": [
    {
     "name": "stdin",
     "output_type": "stream",
     "text": [
      " Please enter you name: salvin\n"
     ]
    },
    {
     "name": "stdout",
     "output_type": "stream",
     "text": [
      "hi salvin welcome to Python programming \n"
     ]
    }
   ],
   "source": [
    "a=input(\" Please enter you name:\");\n",
    "print(\"hi\", a+ \" welcome to Python programming \")"
   ]
  },
  {
   "cell_type": "code",
   "execution_count": 133,
   "id": "06b31daf-3885-4395-bea2-7ccbe98b9d2d",
   "metadata": {},
   "outputs": [
    {
     "name": "stdout",
     "output_type": "stream",
     "text": [
      "pounds to dollars\n"
     ]
    },
    {
     "name": "stdin",
     "output_type": "stream",
     "text": [
      "Please enter amount in pounds: 3\n"
     ]
    },
    {
     "name": "stdout",
     "output_type": "stream",
     "text": [
      "USD: 3.8757\n"
     ]
    }
   ],
   "source": [
    "print(\"pounds to dollars\");\n",
    "p=float(input(\"Please enter amount in pounds:\"))\n",
    "D=1.2919;\n",
    "dollars=p*D;\n",
    "print(\"USD:\",dollars);"
   ]
  },
  {
   "cell_type": "code",
   "execution_count": null,
   "id": "d8d73965-9fae-46c4-aea8-48f0312843c3",
   "metadata": {},
   "outputs": [],
   "source": []
  }
 ],
 "metadata": {
  "kernelspec": {
   "display_name": "Python [conda env:base] *",
   "language": "python",
   "name": "conda-base-py"
  },
  "language_info": {
   "codemirror_mode": {
    "name": "ipython",
    "version": 3
   },
   "file_extension": ".py",
   "mimetype": "text/x-python",
   "name": "python",
   "nbconvert_exporter": "python",
   "pygments_lexer": "ipython3",
   "version": "3.12.7"
  }
 },
 "nbformat": 4,
 "nbformat_minor": 5
}
