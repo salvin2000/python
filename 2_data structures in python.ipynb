{
 "cells": [
  {
   "cell_type": "code",
   "execution_count": 1,
   "id": "7e3de624-2501-4486-a60b-cdc87170669c",
   "metadata": {},
   "outputs": [],
   "source": [
    "#Q1\n",
    "a=[4,27,1,886,352,44]"
   ]
  },
  {
   "cell_type": "code",
   "execution_count": 63,
   "id": "0256f2bf-5d8c-4fcf-a121-89c1c64eff5e",
   "metadata": {},
   "outputs": [
    {
     "data": {
      "text/plain": [
       "[4, 27, 1, 886, 352, 44, 33, 25, 39]"
      ]
     },
     "execution_count": 63,
     "metadata": {},
     "output_type": "execute_result"
    }
   ],
   "source": [
    "#Q2\n",
    "a.append(33)\n",
    "a.append(25)\n",
    "a.append(39)\n",
    "a\n"
   ]
  },
  {
   "cell_type": "code",
   "execution_count": 61,
   "id": "e467141f-0664-44e0-bb12-b022e41a75c8",
   "metadata": {},
   "outputs": [
    {
     "name": "stdout",
     "output_type": "stream",
     "text": [
      "4 27 1 886 352 44 33 25 39 "
     ]
    }
   ],
   "source": [
    "a.remove(25)\n",
    "#Q3\n",
    "for i in a:\n",
    "    print(i, end=\" \")"
   ]
  },
  {
   "cell_type": "code",
   "execution_count": 65,
   "id": "bb1e298a-269c-441f-b4c2-ae4a9165d943",
   "metadata": {},
   "outputs": [],
   "source": [
    "#Exercise Q1 dictionary\n",
    "d={'name':'john', 'age':'25','address':'new york'}\n",
    "d['phone']='1234567890'"
   ]
  },
  {
   "cell_type": "code",
   "execution_count": 67,
   "id": "1df4f374-39f5-4b31-8be9-33fd93a1382b",
   "metadata": {},
   "outputs": [
    {
     "data": {
      "text/plain": [
       "{'name': 'john', 'age': '25', 'address': 'new york', 'phone': '1234567890'}"
      ]
     },
     "execution_count": 67,
     "metadata": {},
     "output_type": "execute_result"
    }
   ],
   "source": [
    "d"
   ]
  },
  {
   "cell_type": "code",
   "execution_count": 128,
   "id": "9acc7087-be33-4a7c-8725-3cdbc08fdee3",
   "metadata": {},
   "outputs": [
    {
     "data": {
      "text/plain": [
       "{1, 2, 3, 4, 5}"
      ]
     },
     "execution_count": 128,
     "metadata": {},
     "output_type": "execute_result"
    }
   ],
   "source": [
    "# exercises set\n",
    "se={1,2,3,4,5}\n",
    "se"
   ]
  },
  {
   "cell_type": "code",
   "execution_count": 116,
   "id": "753d7ce1-33a6-42a5-8d01-90e175d90936",
   "metadata": {},
   "outputs": [
    {
     "data": {
      "text/plain": [
       "{1, 2, 3, 4, 5, 6}"
      ]
     },
     "execution_count": 116,
     "metadata": {},
     "output_type": "execute_result"
    }
   ],
   "source": [
    "se.add(6);\n",
    "se"
   ]
  },
  {
   "cell_type": "code",
   "execution_count": 225,
   "id": "94304e89-687d-4cb9-b3cd-4d47d0ecce91",
   "metadata": {},
   "outputs": [
    {
     "data": {
      "text/plain": [
       "{1, 2, 4, 5}"
      ]
     },
     "execution_count": 225,
     "metadata": {},
     "output_type": "execute_result"
    }
   ],
   "source": [
    "se.discard(3);\n",
    "se"
   ]
  },
  {
   "cell_type": "raw",
   "id": "021e72a9-800d-49eb-9dad-b399dbcc9bbc",
   "metadata": {},
   "source": [
    "# exercise tuple"
   ]
  },
  {
   "cell_type": "code",
   "execution_count": 242,
   "id": "0ba94891-476f-4aeb-b660-b9007aba1c3c",
   "metadata": {},
   "outputs": [],
   "source": [
    "t=(1,2,3,4)"
   ]
  },
  {
   "cell_type": "code",
   "execution_count": 244,
   "id": "536e776c-50d8-4caa-beb0-a49d9da6a9dc",
   "metadata": {},
   "outputs": [
    {
     "name": "stdout",
     "output_type": "stream",
     "text": [
      "4\n"
     ]
    }
   ],
   "source": [
    "print(len(t))"
   ]
  },
  {
   "cell_type": "code",
   "execution_count": null,
   "id": "fec637e2-f301-4073-8959-fdd3969de469",
   "metadata": {},
   "outputs": [],
   "source": []
  },
  {
   "cell_type": "code",
   "execution_count": null,
   "id": "a7360cd1-549e-40c5-b5b1-a59d51c093e3",
   "metadata": {},
   "outputs": [],
   "source": []
  }
 ],
 "metadata": {
  "kernelspec": {
   "display_name": "Python [conda env:base] *",
   "language": "python",
   "name": "conda-base-py"
  },
  "language_info": {
   "codemirror_mode": {
    "name": "ipython",
    "version": 3
   },
   "file_extension": ".py",
   "mimetype": "text/x-python",
   "name": "python",
   "nbconvert_exporter": "python",
   "pygments_lexer": "ipython3",
   "version": "3.12.7"
  }
 },
 "nbformat": 4,
 "nbformat_minor": 5
}
