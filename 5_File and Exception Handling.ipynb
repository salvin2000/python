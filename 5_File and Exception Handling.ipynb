{
 "cells": [
  {
   "cell_type": "code",
   "execution_count": 147,
   "id": "3e2d3154-6fd5-4caf-a34d-c304b0658b16",
   "metadata": {},
   "outputs": [
    {
     "data": {
      "text/plain": [
       "\"hi what's your name?\""
      ]
     },
     "execution_count": 147,
     "metadata": {},
     "output_type": "execute_result"
    }
   ],
   "source": [
    "# exersize 1\n",
    "fl1=open(\"Sales Territory1.txt\",\"r\")\n",
    "fl1.read()"
   ]
  },
  {
   "cell_type": "code",
   "execution_count": 87,
   "id": "002c20d1-24eb-4459-b806-8b0a61b33ffa",
   "metadata": {},
   "outputs": [
    {
     "name": "stdout",
     "output_type": "stream",
     "text": [
      "hi what's your name?\n",
      "salvin\n"
     ]
    }
   ],
   "source": [
    "# exersize 2\n",
    "with open(\"Sales Territory1.txt\",\"r\") as fl1:\n",
    "    content=fl1.read()\n",
    "with open(\"Sales Territory2.txt\",\"w\") as fl2:\n",
    "    fl2.write(content)\n",
    "with open(\"Sales Territory2.txt\",\"r\") as fl2:\n",
    "    print(fl2.read())\n"
   ]
  },
  {
   "cell_type": "code",
   "execution_count": 149,
   "id": "1993dcb0-3bdf-4e2c-b66f-d30d24b8223e",
   "metadata": {},
   "outputs": [
    {
     "name": "stdout",
     "output_type": "stream",
     "text": [
      "20\n"
     ]
    }
   ],
   "source": [
    "# exercise 3\n",
    "with open(\"Sales Territory1.txt\",\"r\") as fl1:\n",
    "     content=fl1.read()\n",
    "     w_count=len(content)\n",
    "     print(w_count)"
   ]
  },
  {
   "cell_type": "code",
   "execution_count": 46,
   "id": "4269d085-16f8-460c-9146-036c1d00ff9b",
   "metadata": {},
   "outputs": [
    {
     "name": "stdin",
     "output_type": "stream",
     "text": [
      "enter a number 7\n"
     ]
    },
    {
     "name": "stdout",
     "output_type": "stream",
     "text": [
      "7\n",
      "string converted to integer successfully\n",
      "14\n"
     ]
    }
   ],
   "source": [
    "# exersize 4\n",
    "try:\n",
    "    \n",
    "    a=input(\"enter a number:\")\n",
    "    def strint(a):\n",
    "        global num\n",
    "        s=a\n",
    "        num=int(s)\n",
    "        print(num)\n",
    "        \n",
    "    strint(a)\n",
    "except ValueError :\n",
    "    print(\"error\")\n",
    "else :\n",
    "    print(\"string converted to integer successfully\")\n",
    "finally:\n",
    "    def sum():\n",
    "        num1=num+num\n",
    "        print(num1)\n",
    "\n",
    "    sum()\n"
   ]
  },
  {
   "cell_type": "code",
   "execution_count": 114,
   "id": "187cc116-8c88-40bd-98f5-452a92e9fe5d",
   "metadata": {},
   "outputs": [
    {
     "name": "stdout",
     "output_type": "stream",
     "text": [
      "23\n",
      "5\n",
      "61\n",
      "43\n",
      "6\n",
      "341\n",
      "543\n",
      "252\n",
      "the number are +ve\n"
     ]
    }
   ],
   "source": [
    "#exercise 5 \n",
    "try:\n",
    "    a=[23,5,61,43,6,341,543,252]\n",
    "    def integers(a):\n",
    "        for i in a:\n",
    "            if i<0:\n",
    "                raise ValueError(\"negative numbers found\")\n",
    "                \n",
    "            else:\n",
    "                print(i)\n",
    "    integers(a)\n",
    "\n",
    "except ValueError as ve:\n",
    "        print(f\"Error: {ve}\")\n",
    "else:\n",
    "    print(\"the number are +ve\")\n"
   ]
  },
  {
   "cell_type": "code",
   "execution_count": 125,
   "id": "f08a252d-367a-40c6-aed2-5d61734eb053",
   "metadata": {},
   "outputs": [
    {
     "name": "stdout",
     "output_type": "stream",
     "text": [
      "error do again\n",
      "program has finished successfully\n"
     ]
    }
   ],
   "source": [
    "# exercise 6\n",
    "try:\n",
    "    a=[a,5,61,43,6,341,543,252]\n",
    "    b=len(a)\n",
    "    def avg1(a):\n",
    "        num1=sum(a)\n",
    "        print(num1)\n",
    "        avg2=num1/b\n",
    "        print(avg2)\n",
    "    avg1(a)\n",
    "except TypeError:\n",
    "    print(\"error do again\")\n",
    "except SyntaxError:\n",
    "    print(\"error in syntax\")\n",
    "finally:\n",
    "    print(\"program has finished successfully\")\n",
    "            "
   ]
  },
  {
   "cell_type": "code",
   "execution_count": null,
   "id": "6a11382c-d16c-41cc-8881-85c6a13bd7a4",
   "metadata": {},
   "outputs": [],
   "source": [
    "# exercise 7\n"
   ]
  },
  {
   "cell_type": "code",
   "execution_count": 160,
   "id": "b7e707af-2acd-43c5-a9f1-f4254b93da6b",
   "metadata": {},
   "outputs": [
    {
     "name": "stdout",
     "output_type": "stream",
     "text": [
      "hi welcome to new file\n",
      "file created..Welcome to new file\n"
     ]
    }
   ],
   "source": [
    "# exercise 7\n",
    "try:\n",
    "    with open(\"new file.txt\",\"w\") as fl1:\n",
    "        fl1.write(\"hi welcome to new file\")\n",
    "    with open(\"new file.txt\",\"r\") as fl2:\n",
    "        print(fl2.read())\n",
    "except SyntaxError:\n",
    "    print(\"error do again\")\n",
    "except FileNotFoundError:\n",
    "    print(\"file not found\")\n",
    "else:\n",
    "    print(\"file created..Welcome to new file\")\n"
   ]
  }
 ],
 "metadata": {
  "kernelspec": {
   "display_name": "Python [conda env:base] *",
   "language": "python",
   "name": "conda-base-py"
  },
  "language_info": {
   "codemirror_mode": {
    "name": "ipython",
    "version": 3
   },
   "file_extension": ".py",
   "mimetype": "text/x-python",
   "name": "python",
   "nbconvert_exporter": "python",
   "pygments_lexer": "ipython3",
   "version": "3.12.7"
  }
 },
 "nbformat": 4,
 "nbformat_minor": 5
}
