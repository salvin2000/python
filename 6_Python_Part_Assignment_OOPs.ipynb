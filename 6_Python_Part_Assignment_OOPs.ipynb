{
 "cells": [
  {
   "cell_type": "code",
   "execution_count": 97,
   "id": "00c5a17a-0ac0-4d00-bf72-370bea7752b0",
   "metadata": {},
   "outputs": [
    {
     "name": "stdout",
     "output_type": "stream",
     "text": [
      "Core Course:\n",
      "CS102 - Data Structures, Credits: 3\n",
      "This course is required for your major.\n",
      "\n",
      "Elective Course:\n",
      "ART105 - Photography, Credits: 2, Type: liberal arts\n"
     ]
    }
   ],
   "source": [
    "\n",
    "class Course:\n",
    "    def __init__(self, course_code, course_name, credit_hours):\n",
    "        self.course_code = course_code\n",
    "        self.course_name = course_name\n",
    "        self.credit_hours = credit_hour\n",
    "        \n",
    "class CoreCourse(Course):\n",
    "    def __init__(self, course_code, course_name, credit_hours, required_for_major):\n",
    "        self.course_code = course_code\n",
    "        self.course_name = course_name\n",
    "        self.credit_hours = credit_hours\n",
    "        self.required_for_major = required_for_major\n",
    "\n",
    "\n",
    "class ElectiveCourse(Course):\n",
    "    def __init__(self, course_code, course_name, credit_hours, elective_type):\n",
    "        self.course_code = course_code\n",
    "        self.course_name = course_name\n",
    "        self.credit_hours = credit_hours\n",
    "        self.elective_type = elective_type\n",
    "\n",
    "\n",
    "core = CoreCourse(\"CS102\", \"Data Structures\", 3, True)\n",
    "elective = ElectiveCourse(\"ART105\", \"Photography\", 2, \"liberal arts\")\n",
    "\n",
    "\n",
    "print(\"Core Course:\")\n",
    "print(f\"{core.course_code} - {core.course_name}, Credits: {core.credit_hours}\")\n",
    "print(\"This course is required for your major.\" if core.required_for_major else \"This course is NOT required for your major.\")\n",
    "\n",
    "\n",
    "print(\"\\nElective Course:\")\n",
    "print(f\"{elective.course_code} - {elective.course_name}, Credits: {elective.credit_hours}, Type: {elective.elective_type}\")\n",
    "\n",
    "\n",
    "\n"
   ]
  },
  {
   "cell_type": "code",
   "execution_count": 19,
   "id": "00094a95-cfa5-4c08-89f5-a98a3b41bf60",
   "metadata": {},
   "outputs": [
    {
     "name": "stdout",
     "output_type": "stream",
     "text": [
      "Employee Name: John Doe\n",
      "Employee Salary: 50000\n"
     ]
    }
   ],
   "source": [
    "from module_employee1 import Employee\n",
    "\n",
    "\n",
    "emp = Employee(\"John Doe\", 50000)\n",
    "\n",
    "print(\"Employee Name:\", emp.get_name())\n",
    "print(\"Employee Salary:\", emp.get_salary())"
   ]
  },
  {
   "cell_type": "code",
   "execution_count": null,
   "id": "f4af48be-007b-4448-8f92-6433728a3c83",
   "metadata": {},
   "outputs": [],
   "source": []
  }
 ],
 "metadata": {
  "kernelspec": {
   "display_name": "Python [conda env:base] *",
   "language": "python",
   "name": "conda-base-py"
  },
  "language_info": {
   "codemirror_mode": {
    "name": "ipython",
    "version": 3
   },
   "file_extension": ".py",
   "mimetype": "text/x-python",
   "name": "python",
   "nbconvert_exporter": "python",
   "pygments_lexer": "ipython3",
   "version": "3.12.7"
  }
 },
 "nbformat": 4,
 "nbformat_minor": 5
}
