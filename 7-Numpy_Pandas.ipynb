{
 "cells": [
  {
   "cell_type": "code",
   "execution_count": 29,
   "id": "a187e76c-5fdd-4462-b1cf-d655781c85ac",
   "metadata": {},
   "outputs": [
    {
     "data": {
      "text/plain": [
       "array([[ 1,  2,  3,  4,  5],\n",
       "       [ 6,  7,  8,  9, 10]])"
      ]
     },
     "execution_count": 29,
     "metadata": {},
     "output_type": "execute_result"
    }
   ],
   "source": [
    "#Create a numpy array containing the numbers from 1 to 10, and then reshape it to a 2x5 matrix\n",
    "\n",
    "import numpy as np\n",
    "ar1=np.array([[1,2,3,4,5],[6,7,8,9,10]])\n",
    "ar1"
   ]
  },
  {
   "cell_type": "code",
   "execution_count": 63,
   "id": "b0a2d114-52cf-4e07-b8d2-8ca998901467",
   "metadata": {},
   "outputs": [
    {
     "name": "stdout",
     "output_type": "stream",
     "text": [
      "[ 1  2  3  4  5  6  7  8  9 10 11 12 13 14 15 16 17 18 19]\n",
      "[ 5  6  7  8  9 10 11 12 13 14 15]\n"
     ]
    }
   ],
   "source": [
    "# Exercise 2: (Score : 1) Create a numpy array containing the numbers from 1 to 20, and then extract the elements between the 5th and 15th index. \n",
    "\n",
    "ar2=np.arange(1,20)\n",
    "print(ar2)\n",
    "result = ar2[4:15]\n",
    "print(result)"
   ]
  },
  {
   "cell_type": "code",
   "execution_count": 31,
   "id": "d3f618b7-f6be-403d-9fa4-1dd42a4a8677",
   "metadata": {},
   "outputs": [
    {
     "data": {
      "text/plain": [
       "apples     3\n",
       "bananas    2\n",
       "oranges    1\n",
       "dtype: int64"
      ]
     },
     "execution_count": 31,
     "metadata": {},
     "output_type": "execute_result"
    }
   ],
   "source": [
    "#exercise 3: \n",
    "#(Score : 2) Create a Pandas series with the following data: \n",
    "#{'apples': 3, 'bananas': 2, 'oranges': 1}. Then, add a new item to the series with the key 'pears' and the value 4.\n",
    "\n",
    "\n",
    "import pandas as pd\n",
    "\n",
    "s1=pd.Series({'apples':3,'bananas':2,'oranges':1})\n",
    "s1\n"
   ]
  },
  {
   "cell_type": "code",
   "execution_count": 25,
   "id": "4d3592e1-ca3f-4fae-baf4-a847f5450342",
   "metadata": {},
   "outputs": [
    {
     "data": {
      "text/plain": [
       "apples     3\n",
       "bananas    2\n",
       "oranges    1\n",
       "pears      4\n",
       "dtype: int64"
      ]
     },
     "execution_count": 25,
     "metadata": {},
     "output_type": "execute_result"
    }
   ],
   "source": [
    "\n",
    "s1['pears']=4\n",
    "s1"
   ]
  },
  {
   "cell_type": "code",
   "execution_count": 49,
   "id": "825cb3ea-7577-4b90-b16c-8064ca4f4675",
   "metadata": {},
   "outputs": [
    {
     "data": {
      "text/html": [
       "<div>\n",
       "<style scoped>\n",
       "    .dataframe tbody tr th:only-of-type {\n",
       "        vertical-align: middle;\n",
       "    }\n",
       "\n",
       "    .dataframe tbody tr th {\n",
       "        vertical-align: top;\n",
       "    }\n",
       "\n",
       "    .dataframe thead th {\n",
       "        text-align: right;\n",
       "    }\n",
       "</style>\n",
       "<table border=\"1\" class=\"dataframe\">\n",
       "  <thead>\n",
       "    <tr style=\"text-align: right;\">\n",
       "      <th></th>\n",
       "      <th>name</th>\n",
       "      <th>age</th>\n",
       "      <th>gender</th>\n",
       "    </tr>\n",
       "  </thead>\n",
       "  <tbody>\n",
       "    <tr>\n",
       "      <th>1</th>\n",
       "      <td>salvin</td>\n",
       "      <td>42</td>\n",
       "      <td>Male</td>\n",
       "    </tr>\n",
       "    <tr>\n",
       "      <th>2</th>\n",
       "      <td>bimal</td>\n",
       "      <td>31</td>\n",
       "      <td>Male</td>\n",
       "    </tr>\n",
       "    <tr>\n",
       "      <th>3</th>\n",
       "      <td>sisly</td>\n",
       "      <td>28</td>\n",
       "      <td>Female</td>\n",
       "    </tr>\n",
       "    <tr>\n",
       "      <th>4</th>\n",
       "      <td>lilly</td>\n",
       "      <td>19</td>\n",
       "      <td>Female</td>\n",
       "    </tr>\n",
       "    <tr>\n",
       "      <th>5</th>\n",
       "      <td>jordan</td>\n",
       "      <td>65</td>\n",
       "      <td>Male</td>\n",
       "    </tr>\n",
       "    <tr>\n",
       "      <th>6</th>\n",
       "      <td>jane</td>\n",
       "      <td>33</td>\n",
       "      <td>Female</td>\n",
       "    </tr>\n",
       "    <tr>\n",
       "      <th>7</th>\n",
       "      <td>sandra</td>\n",
       "      <td>25</td>\n",
       "      <td>Female</td>\n",
       "    </tr>\n",
       "    <tr>\n",
       "      <th>8</th>\n",
       "      <td>rohit</td>\n",
       "      <td>22</td>\n",
       "      <td>Male</td>\n",
       "    </tr>\n",
       "    <tr>\n",
       "      <th>9</th>\n",
       "      <td>julie</td>\n",
       "      <td>29</td>\n",
       "      <td>Female</td>\n",
       "    </tr>\n",
       "    <tr>\n",
       "      <th>10</th>\n",
       "      <td>farhan</td>\n",
       "      <td>23</td>\n",
       "      <td>Male</td>\n",
       "    </tr>\n",
       "  </tbody>\n",
       "</table>\n",
       "</div>"
      ],
      "text/plain": [
       "      name age  gender\n",
       "1   salvin  42    Male\n",
       "2    bimal  31    Male\n",
       "3    sisly  28  Female\n",
       "4    lilly  19  Female\n",
       "5   jordan  65    Male\n",
       "6     jane  33  Female\n",
       "7   sandra  25  Female\n",
       "8    rohit  22    Male\n",
       "9    julie  29  Female\n",
       "10  farhan  23    Male"
      ]
     },
     "execution_count": 49,
     "metadata": {},
     "output_type": "execute_result"
    }
   ],
   "source": [
    "#. Exercise 4: (Score : 2) Create a dataframe with the following columns: name, age, and gender. The dataframe should have 10 rows of data\n",
    "s1=pd.DataFrame(np.array([[\"salvin\",42,\"Male\"],[\"bimal\",31,\"Male\"],[\"sisly\",28,\"Female\"],[\"lilly\",19,\"Female\"],[\"jordan\",65,\"Male\"],[\"jane\",33,\"Female\"],[\"sandra\",25,\"Female\"],[\"rohit\",22,\"Male\"],[\"julie\",29,\"Female\"],[\"farhan\",23,\"Male\"]]),index=[\"1\",\"2\",\"3\",\"4\",\"5\",\"6\",\"7\",\"8\",\"9\",\"10\"],columns=[\"name\",\"age\",\"gender\"])\n",
    "s1\n",
    "s1"
   ]
  },
  {
   "cell_type": "code",
   "execution_count": 53,
   "id": "1dc5eb89-e2c0-45d0-94dc-227006b6f48a",
   "metadata": {},
   "outputs": [
    {
     "data": {
      "text/html": [
       "<div>\n",
       "<style scoped>\n",
       "    .dataframe tbody tr th:only-of-type {\n",
       "        vertical-align: middle;\n",
       "    }\n",
       "\n",
       "    .dataframe tbody tr th {\n",
       "        vertical-align: top;\n",
       "    }\n",
       "\n",
       "    .dataframe thead th {\n",
       "        text-align: right;\n",
       "    }\n",
       "</style>\n",
       "<table border=\"1\" class=\"dataframe\">\n",
       "  <thead>\n",
       "    <tr style=\"text-align: right;\">\n",
       "      <th></th>\n",
       "      <th>name</th>\n",
       "      <th>age</th>\n",
       "      <th>gender</th>\n",
       "      <th>occupation</th>\n",
       "    </tr>\n",
       "  </thead>\n",
       "  <tbody>\n",
       "    <tr>\n",
       "      <th>1</th>\n",
       "      <td>salvin</td>\n",
       "      <td>42</td>\n",
       "      <td>Male</td>\n",
       "      <td>Programmer</td>\n",
       "    </tr>\n",
       "    <tr>\n",
       "      <th>2</th>\n",
       "      <td>bimal</td>\n",
       "      <td>31</td>\n",
       "      <td>Male</td>\n",
       "      <td>Analyst</td>\n",
       "    </tr>\n",
       "    <tr>\n",
       "      <th>3</th>\n",
       "      <td>sisly</td>\n",
       "      <td>28</td>\n",
       "      <td>Female</td>\n",
       "      <td>Analyst</td>\n",
       "    </tr>\n",
       "    <tr>\n",
       "      <th>4</th>\n",
       "      <td>lilly</td>\n",
       "      <td>19</td>\n",
       "      <td>Female</td>\n",
       "      <td>Manager</td>\n",
       "    </tr>\n",
       "    <tr>\n",
       "      <th>5</th>\n",
       "      <td>jordan</td>\n",
       "      <td>65</td>\n",
       "      <td>Male</td>\n",
       "      <td>Programmer</td>\n",
       "    </tr>\n",
       "    <tr>\n",
       "      <th>6</th>\n",
       "      <td>jane</td>\n",
       "      <td>33</td>\n",
       "      <td>Female</td>\n",
       "      <td>Programmer</td>\n",
       "    </tr>\n",
       "    <tr>\n",
       "      <th>7</th>\n",
       "      <td>sandra</td>\n",
       "      <td>25</td>\n",
       "      <td>Female</td>\n",
       "      <td>Programmer</td>\n",
       "    </tr>\n",
       "    <tr>\n",
       "      <th>8</th>\n",
       "      <td>rohit</td>\n",
       "      <td>22</td>\n",
       "      <td>Male</td>\n",
       "      <td>Manager</td>\n",
       "    </tr>\n",
       "    <tr>\n",
       "      <th>9</th>\n",
       "      <td>julie</td>\n",
       "      <td>29</td>\n",
       "      <td>Female</td>\n",
       "      <td>Manager</td>\n",
       "    </tr>\n",
       "    <tr>\n",
       "      <th>10</th>\n",
       "      <td>farhan</td>\n",
       "      <td>23</td>\n",
       "      <td>Male</td>\n",
       "      <td>Analyst</td>\n",
       "    </tr>\n",
       "  </tbody>\n",
       "</table>\n",
       "</div>"
      ],
      "text/plain": [
       "      name age  gender   occupation\n",
       "1   salvin  42    Male   Programmer\n",
       "2    bimal  31    Male      Analyst\n",
       "3    sisly  28  Female      Analyst\n",
       "4    lilly  19  Female      Manager\n",
       "5   jordan  65    Male   Programmer\n",
       "6     jane  33  Female   Programmer\n",
       "7   sandra  25  Female   Programmer\n",
       "8    rohit  22    Male      Manager\n",
       "9    julie  29  Female      Manager\n",
       "10  farhan  23    Male      Analyst"
      ]
     },
     "execution_count": 53,
     "metadata": {},
     "output_type": "execute_result"
    }
   ],
   "source": [
    "#Exercise 5: (Score : 1) Add a new column to the data frame created in question 1, called occupation. \n",
    "#The values for this column should be Programmer, Manager, and Analyst, corresponding to the rows in the dataframe\n",
    "\n",
    "s1['occupation']=[\" Programmer\",\"Analyst\",\"Analyst\",\"Manager\",\"Programmer\",\"Programmer\",\"Programmer\",\"Manager\",\"Manager\",\"Analyst\"]\n",
    "s1"
   ]
  },
  {
   "cell_type": "code",
   "execution_count": 63,
   "id": "403fd5f9-2e4b-419c-b0f4-3da8cb56e8df",
   "metadata": {},
   "outputs": [
    {
     "data": {
      "text/html": [
       "<div>\n",
       "<style scoped>\n",
       "    .dataframe tbody tr th:only-of-type {\n",
       "        vertical-align: middle;\n",
       "    }\n",
       "\n",
       "    .dataframe tbody tr th {\n",
       "        vertical-align: top;\n",
       "    }\n",
       "\n",
       "    .dataframe thead th {\n",
       "        text-align: right;\n",
       "    }\n",
       "</style>\n",
       "<table border=\"1\" class=\"dataframe\">\n",
       "  <thead>\n",
       "    <tr style=\"text-align: right;\">\n",
       "      <th></th>\n",
       "      <th>name</th>\n",
       "      <th>age</th>\n",
       "      <th>gender</th>\n",
       "      <th>occupation</th>\n",
       "    </tr>\n",
       "  </thead>\n",
       "  <tbody>\n",
       "    <tr>\n",
       "      <th>1</th>\n",
       "      <td>salvin</td>\n",
       "      <td>42</td>\n",
       "      <td>Male</td>\n",
       "      <td>Programmer</td>\n",
       "    </tr>\n",
       "    <tr>\n",
       "      <th>2</th>\n",
       "      <td>bimal</td>\n",
       "      <td>31</td>\n",
       "      <td>Male</td>\n",
       "      <td>Analyst</td>\n",
       "    </tr>\n",
       "    <tr>\n",
       "      <th>5</th>\n",
       "      <td>jordan</td>\n",
       "      <td>65</td>\n",
       "      <td>Male</td>\n",
       "      <td>Programmer</td>\n",
       "    </tr>\n",
       "    <tr>\n",
       "      <th>6</th>\n",
       "      <td>jane</td>\n",
       "      <td>33</td>\n",
       "      <td>Female</td>\n",
       "      <td>Programmer</td>\n",
       "    </tr>\n",
       "  </tbody>\n",
       "</table>\n",
       "</div>"
      ],
      "text/plain": [
       "     name age  gender   occupation\n",
       "1  salvin  42    Male   Programmer\n",
       "2   bimal  31    Male      Analyst\n",
       "5  jordan  65    Male   Programmer\n",
       "6    jane  33  Female   Programmer"
      ]
     },
     "execution_count": 63,
     "metadata": {},
     "output_type": "execute_result"
    }
   ],
   "source": [
    "#Exercise 6: (Score : 1) Select the rows of the dataframe where the age is greater than or equal to 30. \n",
    "s1[s1['age']>='30']"
   ]
  },
  {
   "cell_type": "code",
   "execution_count": 67,
   "id": "51fc5424-ec93-471e-bda3-744d51866a63",
   "metadata": {},
   "outputs": [
    {
     "name": "stdout",
     "output_type": "stream",
     "text": [
      "     name  age  gender   occupation\n",
      "0  salvin   42    Male   Programmer\n",
      "1   bimal   31    Male      Analyst\n",
      "2   sisly   28  Female      Analyst\n",
      "3   lilly   19  Female      Manager\n",
      "4  jordan   65    Male   Programmer\n",
      "5    jane   33  Female   Programmer\n",
      "6  sandra   25  Female   Programmer\n",
      "7   rohit   22    Male      Manager\n",
      "8   julie   29  Female      Manager\n",
      "9  farhan   23    Male      Analyst\n"
     ]
    }
   ],
   "source": [
    "#Exercise 7: (Score : 2) Convert this dataframe to a csv file and read that csv file, finally display the contents.\n",
    "s1.to_csv('people.csv',index=False)  \n",
    "s1loaded = pd.read_csv('people.csv')\n",
    "print(s1loaded)"
   ]
  }
 ],
 "metadata": {
  "kernelspec": {
   "display_name": "Python [conda env:base] *",
   "language": "python",
   "name": "conda-base-py"
  },
  "language_info": {
   "codemirror_mode": {
    "name": "ipython",
    "version": 3
   },
   "file_extension": ".py",
   "mimetype": "text/x-python",
   "name": "python",
   "nbconvert_exporter": "python",
   "pygments_lexer": "ipython3",
   "version": "3.12.7"
  }
 },
 "nbformat": 4,
 "nbformat_minor": 5
}
