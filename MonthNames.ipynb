{
 "cells": [
  {
   "cell_type": "code",
   "execution_count": 30,
   "id": "8b80519a-6ada-4a85-8403-155c0de9ab54",
   "metadata": {},
   "outputs": [
    {
     "name": "stdin",
     "output_type": "stream",
     "text": [
      "enter the month 3\n"
     ]
    },
    {
     "name": "stdout",
     "output_type": "stream",
     "text": [
      "Month 3 is March\n"
     ]
    }
   ],
   "source": [
    "# exercise 1\n",
    "d={\"1\": \"January\",\"2\": \"February \",\"3\": \"March\",\"4\": \"April\",\"5\": \"May\",\"6\": \"June\",\"7\": \"July\",\"8\": \"August\",\"9\": \"September\",\"10\": \"October\",\"11\": \"November\",\"12\": \"December\"}\n",
    "e=input(\"enter the month\")\n",
    "for i,n in d.items():\n",
    "    if e==i:\n",
    "        print(\"Month\",i,\"is\",n)\n",
    "        break\n",
    "    \n",
    "    "
   ]
  },
  {
   "cell_type": "code",
   "execution_count": 7,
   "id": "89c0b3bd-a57c-44e4-ac95-2cc09193282b",
   "metadata": {},
   "outputs": [
    {
     "name": "stdin",
     "output_type": "stream",
     "text": [
      "enter age 44\n"
     ]
    },
    {
     "name": "stdout",
     "output_type": "stream",
     "text": [
      "your ticket cost $6.00\n"
     ]
    }
   ],
   "source": [
    "# exercise 2\n",
    "age1=int(input(\"enter age\"))\n",
    "\n",
    "if (age1>=60):\n",
    "    print(\"your ticket cost $2.00\")\n",
    "elif (age1>18 and age1<60):\n",
    "    print(\"your ticket cost $6.00\")\n",
    "else:\n",
    "    print(\"your ticket cost $3.00\")"
   ]
  },
  {
   "cell_type": "code",
   "execution_count": 29,
   "id": "003414b2-9494-4fea-b94e-e7a7622fec64",
   "metadata": {},
   "outputs": [
    {
     "name": "stdin",
     "output_type": "stream",
     "text": [
      "enter weight 75\n",
      "enter height 1.70\n"
     ]
    },
    {
     "name": "stdout",
     "output_type": "stream",
     "text": [
      "your BMI is 25.95155709342561 you are in underweight category\n"
     ]
    }
   ],
   "source": [
    "# exercise 3\n",
    "weight=float(input(\"enter weight\"))\n",
    "height=float(input(\"enter height\"))\n",
    "\n",
    "BMI=weight/(height*height)\n",
    "if (BMI<=18.5):\n",
    "    print(\"your BMI is\",BMI, \"you are in below category\")\n",
    "elif (BMI>18.5 or BMI<24.95):\n",
    "    print(\"your BMI is\",BMI, \"you are in underweight category\")\n",
    "elif (BMI>25 or BMI<29.9):\n",
    "     print(\"your BMI is\",BMI, \"you are in normal category\")\n",
    "elif (BMI==30):\n",
    "    print(\"your BMI is\",BMI, \"you are in overweight category\")\n",
    "elif (BMI>30):\n",
    "    print(\"your BMI is\",BMI, \"you are in above category\")\n",
    "else:\n",
    "    print(\"error\")\n"
   ]
  },
  {
   "cell_type": "code",
   "execution_count": 35,
   "id": "e8bc89cf-1f79-4972-9176-3ac66d1c555d",
   "metadata": {},
   "outputs": [
    {
     "name": "stdin",
     "output_type": "stream",
     "text": [
      "Enter 1st number  7\n",
      "Enter 2nd number  4\n",
      "Enter 3rd number  2\n"
     ]
    },
    {
     "name": "stdout",
     "output_type": "stream",
     "text": [
      "7.0 is greater\n"
     ]
    }
   ],
   "source": [
    "# exercise 4\n",
    "\n",
    "n1 = float(input(\"Enter 1st number \"))\n",
    "n2 = float(input(\"Enter 2nd number \"))\n",
    "n3 = float(input(\"Enter 3rd number \"))\n",
    "\n",
    "if (n1>n2):\n",
    "    if (n1>n3):\n",
    "        print(n1,\"is greater\")\n",
    "    else :\n",
    "        print(n3,\"is greater\")\n",
    "else:\n",
    "    if (n2>n3):\n",
    "        print(n2,\"is greater\")\n",
    "    else:\n",
    "        print(n3,\"is greater\")\n",
    "    \n"
   ]
  },
  {
   "cell_type": "code",
   "execution_count": 1,
   "id": "b6987675-914b-43e7-b274-d1c2a4029fd5",
   "metadata": {},
   "outputs": [
    {
     "name": "stdin",
     "output_type": "stream",
     "text": [
      "Enter number  7\n"
     ]
    },
    {
     "name": "stdout",
     "output_type": "stream",
     "text": [
      "The factorial of 7 is 5040\n"
     ]
    }
   ],
   "source": [
    "# exercise 5\n",
    "n = int(input(\"Enter number \"))\n",
    "factorial=1\n",
    "for i in range(1, n + 1):\n",
    "        factorial *= i\n",
    "print(\"The factorial of\", n, \"is\", factorial)"
   ]
  },
  {
   "cell_type": "code",
   "execution_count": 52,
   "id": "c536dcfe-5954-4c09-952d-2fa751aa471d",
   "metadata": {},
   "outputs": [
    {
     "name": "stdout",
     "output_type": "stream",
     "text": [
      "the count is:\n",
      "-1\n",
      "-2\n",
      "-3\n",
      "-4\n",
      "-5\n",
      "-6\n",
      "-7\n",
      "-8\n",
      "-9\n",
      "-10\n"
     ]
    }
   ],
   "source": [
    "# exercise 6\n",
    "i=-1\n",
    "while i>=-10:\n",
    "    if i==-1:\n",
    "        print(\"the count is:\") \n",
    "    print(i)\n",
    "          \n",
    "    i += -1;\n"
   ]
  },
  {
   "cell_type": "code",
   "execution_count": 54,
   "id": "a4e8713c-8a81-443d-807c-e8f46d5cf7de",
   "metadata": {},
   "outputs": [
    {
     "name": "stdin",
     "output_type": "stream",
     "text": [
      "enter number 7\n"
     ]
    },
    {
     "name": "stdout",
     "output_type": "stream",
     "text": [
      "7 * 1 = 7\n",
      "7 * 2 = 14\n",
      "7 * 3 = 21\n",
      "7 * 4 = 28\n",
      "7 * 5 = 35\n",
      "7 * 6 = 42\n",
      "7 * 7 = 49\n",
      "7 * 8 = 56\n",
      "7 * 9 = 63\n",
      "7 * 10 = 70\n"
     ]
    }
   ],
   "source": [
    "# exercise 7\n",
    "n1=int(input(\"enter number\"))\n",
    "for i in range(1,11):\n",
    "    o=n1*i\n",
    "    print(n1,\"*\",i,\"=\",o)\n",
    "       "
   ]
  },
  {
   "cell_type": "code",
   "execution_count": 78,
   "id": "2e90dcea-852f-49cf-a498-f97ff802e5c5",
   "metadata": {},
   "outputs": [
    {
     "name": "stdin",
     "output_type": "stream",
     "text": [
      "Enter something afaf\n"
     ]
    },
    {
     "name": "stdout",
     "output_type": "stream",
     "text": [
      "afaf\n"
     ]
    },
    {
     "name": "stdin",
     "output_type": "stream",
     "text": [
      "Enter something 4354\n"
     ]
    },
    {
     "name": "stdout",
     "output_type": "stream",
     "text": [
      "4354\n"
     ]
    },
    {
     "name": "stdin",
     "output_type": "stream",
     "text": [
      "Enter something sgs\n"
     ]
    },
    {
     "name": "stdout",
     "output_type": "stream",
     "text": [
      "sgs\n"
     ]
    },
    {
     "name": "stdin",
     "output_type": "stream",
     "text": [
      "Enter something hi\n"
     ]
    },
    {
     "name": "stdout",
     "output_type": "stream",
     "text": [
      "hi\n"
     ]
    },
    {
     "name": "stdin",
     "output_type": "stream",
     "text": [
      "Enter something done\n"
     ]
    }
   ],
   "source": [
    "# exercise 8\n",
    "while True:\n",
    "    user = input(\"Enter something\")  \n",
    "    if user.lower() == \"done\":  \n",
    "        break \n",
    "    print(user)  \n"
   ]
  },
  {
   "cell_type": "code",
   "execution_count": 103,
   "id": "172e4c6f-7d70-4520-aceb-59895a165528",
   "metadata": {},
   "outputs": [
    {
     "name": "stdout",
     "output_type": "stream",
     "text": [
      "1\n",
      "2\n",
      "fizz\n",
      "4\n",
      "buzz\n",
      "fizz\n",
      "7\n",
      "8\n",
      "fizz\n",
      "buzz\n"
     ]
    }
   ],
   "source": [
    "# exercise 9\n",
    "for i in range(1,11):\n",
    "    if (i%3==0):\n",
    "        print(\"fizz\")\n",
    "        continue\n",
    "        \n",
    "    if(i%5==0):\n",
    "        print(\"buzz\")\n",
    "        continue\n",
    "    print(i)"
   ]
  },
  {
   "cell_type": "code",
   "execution_count": 225,
   "id": "c7813319-789b-4cdf-ae1d-c904cab5a26f",
   "metadata": {},
   "outputs": [
    {
     "name": "stdout",
     "output_type": "stream",
     "text": [
      "5,4,3,2,1,4,3,2,1,3,2,1,2,1,1,"
     ]
    }
   ],
   "source": [
    "#exercise 10\n",
    "n=5\n",
    "\n",
    "for i in range(n,0,-1):\n",
    "    for j in range(i,0,-1):\n",
    "        print(j,end=',')\n",
    "        "
   ]
  },
  {
   "cell_type": "code",
   "execution_count": null,
   "id": "617cf912-e466-48eb-8d1b-cdd25f1b446b",
   "metadata": {},
   "outputs": [],
   "source": []
  }
 ],
 "metadata": {
  "kernelspec": {
   "display_name": "Python [conda env:base] *",
   "language": "python",
   "name": "conda-base-py"
  },
  "language_info": {
   "codemirror_mode": {
    "name": "ipython",
    "version": 3
   },
   "file_extension": ".py",
   "mimetype": "text/x-python",
   "name": "python",
   "nbconvert_exporter": "python",
   "pygments_lexer": "ipython3",
   "version": "3.12.7"
  }
 },
 "nbformat": 4,
 "nbformat_minor": 5
}
