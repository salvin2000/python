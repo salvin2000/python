{
 "cells": [
  {
   "cell_type": "code",
   "execution_count": 7,
   "id": "e6b70df7-9eec-44f7-a492-89885ea40b80",
   "metadata": {},
   "outputs": [],
   "source": [
    "with open(\"module_employee1.py\",\"w\") as file :\n",
    "    file.write('''class Employee:\n",
    "            def __init__(self, name, salary):\n",
    "                self.name = name\n",
    "                self.salary = salary\n",
    "    \n",
    "            def get_name(self):\n",
    "                return self.name\n",
    "    \n",
    "            def get_salary(self):\n",
    "                return self.salary ''')\n"
   ]
  }
 ],
 "metadata": {
  "kernelspec": {
   "display_name": "Python [conda env:base] *",
   "language": "python",
   "name": "conda-base-py"
  },
  "language_info": {
   "codemirror_mode": {
    "name": "ipython",
    "version": 3
   },
   "file_extension": ".py",
   "mimetype": "text/x-python",
   "name": "python",
   "nbconvert_exporter": "python",
   "pygments_lexer": "ipython3",
   "version": "3.12.7"
  }
 },
 "nbformat": 4,
 "nbformat_minor": 5
}
