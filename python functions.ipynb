{
 "cells": [
  {
   "cell_type": "code",
   "execution_count": 5,
   "id": "ac2f0dfc-ab85-45fc-9b97-1b1f0889bc35",
   "metadata": {},
   "outputs": [
    {
     "data": {
      "text/plain": [
       "12"
      ]
     },
     "execution_count": 5,
     "metadata": {},
     "output_type": "execute_result"
    }
   ],
   "source": [
    "# 1\n",
    "l=[1,2,3,4,5,6,7,8,35,6,87,8]\n",
    "len(l)"
   ]
  },
  {
   "cell_type": "code",
   "execution_count": 9,
   "id": "1b51dd56-9433-45eb-a059-50d9c27f7562",
   "metadata": {},
   "outputs": [
    {
     "name": "stdin",
     "output_type": "stream",
     "text": [
      "enter name anu\n"
     ]
    },
    {
     "name": "stdout",
     "output_type": "stream",
     "text": [
      "hello anu\n"
     ]
    }
   ],
   "source": [
    "#1\n",
    "a=input(\"enter name\")\n",
    "def greet(name):\n",
    "    print(\"hello\",name)\n",
    "\n",
    "greet(a)"
   ]
  },
  {
   "cell_type": "code",
   "execution_count": 21,
   "id": "15d1b67d-0166-45a9-bb62-0c2288f6a349",
   "metadata": {},
   "outputs": [
    {
     "name": "stdout",
     "output_type": "stream",
     "text": [
      "89\n"
     ]
    }
   ],
   "source": [
    "#3 \n",
    "\n",
    "def large(*num):\n",
    "    num1=num[0]\n",
    "    for i in num:\n",
    "        if i >num1: \n",
    "            num1 = i    \n",
    "    print(num1)\n",
    "        \n",
    "large(21,44,2,5,6,7,8,35,6,1,87,89,33,44,3,9)\n",
    "\n"
   ]
  },
  {
   "cell_type": "code",
   "execution_count": 9,
   "id": "409dacf8-3a5f-4d92-bf11-413e1a203ba9",
   "metadata": {},
   "outputs": [
    {
     "name": "stdout",
     "output_type": "stream",
     "text": [
      "20\n",
      "30\n"
     ]
    }
   ],
   "source": [
    "#  \n",
    "i=10\n",
    "def fun():\n",
    "    i=20\n",
    "    print(i)\n",
    "\n",
    "def fun1():\n",
    "    global i\n",
    "    i=i+20\n",
    "    print(i)\n",
    "\n",
    "fun()\n",
    "fun1()\n",
    "#local variable-in this the variable can be used inside the def function and cannot be used outside\n",
    "#global variable-in this the variable is declared outside the def function and can use anywhere. but to use it inside the def function we should type \"global i\"  "
   ]
  },
  {
   "cell_type": "code",
   "execution_count": 37,
   "id": "9a19f5e4-83fb-4344-a57d-820f36aa5409",
   "metadata": {},
   "outputs": [
    {
     "name": "stdout",
     "output_type": "stream",
     "text": [
      "45\n"
     ]
    }
   ],
   "source": [
    "#\n",
    "\n",
    "def area_rect(length=9,width=5):\n",
    "    area=length*width\n",
    "    print(area)\n",
    "\n",
    "area_rect()"
   ]
  },
  {
   "cell_type": "code",
   "execution_count": 35,
   "id": "4fcf5851-ce8c-4bd7-b017-368d7b024db2",
   "metadata": {},
   "outputs": [
    {
     "name": "stdout",
     "output_type": "stream",
     "text": [
      "15\n"
     ]
    }
   ],
   "source": [
    "def area_rect(length,width=5):\n",
    "    area=length*width\n",
    "    print(area)\n",
    "\n",
    "area_rect(3)"
   ]
  }
 ],
 "metadata": {
  "kernelspec": {
   "display_name": "Python [conda env:base] *",
   "language": "python",
   "name": "conda-base-py"
  },
  "language_info": {
   "codemirror_mode": {
    "name": "ipython",
    "version": 3
   },
   "file_extension": ".py",
   "mimetype": "text/x-python",
   "name": "python",
   "nbconvert_exporter": "python",
   "pygments_lexer": "ipython3",
   "version": "3.12.7"
  }
 },
 "nbformat": 4,
 "nbformat_minor": 5
}
